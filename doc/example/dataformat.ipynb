{
 "cells": [
  {
   "cell_type": "markdown",
   "metadata": {},
   "source": [
    "# Data format example"
   ]
  },
  {
   "cell_type": "code",
   "execution_count": 1,
   "metadata": {},
   "outputs": [],
   "source": [
    "import pypesto\n",
    "import amici\n",
    "import petab\n",
    "\n",
    "import numpy as np\n",
    "import matplotlib.pyplot as plt\n",
    "\n",
    "%matplotlib inline"
   ]
  },
  {
   "cell_type": "markdown",
   "metadata": {},
   "source": [
    "## Manage PETAB model"
   ]
  },
  {
   "cell_type": "code",
   "execution_count": 2,
   "metadata": {},
   "outputs": [
    {
     "data": {
      "text/plain": [
       "[['inflowp',\n",
       "  'k00_01',\n",
       "  'k00_10',\n",
       "  'k01_00',\n",
       "  'k01_02',\n",
       "  'k01_11',\n",
       "  'k02_01',\n",
       "  'k02_03',\n",
       "  'k02_12',\n",
       "  'k03_02',\n",
       "  'k03_13',\n",
       "  'k10_00',\n",
       "  'k10_11',\n",
       "  'k10_20',\n",
       "  'k11_01',\n",
       "  'k11_10',\n",
       "  'k11_12',\n",
       "  'k11_21',\n",
       "  'k12_02',\n",
       "  'k12_11',\n",
       "  'k12_13',\n",
       "  'k12_22',\n",
       "  'k13_03',\n",
       "  'k13_12',\n",
       "  'k13_23',\n",
       "  'k20_10',\n",
       "  'k20_21',\n",
       "  'k20_30',\n",
       "  'k21_11',\n",
       "  'k21_20',\n",
       "  'k21_22',\n",
       "  'k21_31',\n",
       "  'k22_12',\n",
       "  'k22_21',\n",
       "  'k22_23',\n",
       "  'k22_32',\n",
       "  'k23_13',\n",
       "  'k23_22',\n",
       "  'k30_20',\n",
       "  'k30_31',\n",
       "  'k31_21',\n",
       "  'k31_30',\n",
       "  'k31_32',\n",
       "  'k32_22',\n",
       "  'k32_31',\n",
       "  'sigma',\n",
       "  'sigma',\n",
       "  'sigma',\n",
       "  'sigma',\n",
       "  'sigma',\n",
       "  'sigma',\n",
       "  'sigma',\n",
       "  'sigma',\n",
       "  'sigma',\n",
       "  'sigma',\n",
       "  'sigma',\n",
       "  'sigma',\n",
       "  'sigma',\n",
       "  'sigma',\n",
       "  'sigma']]"
      ]
     },
     "execution_count": 2,
     "metadata": {},
     "output_type": "execute_result"
    }
   ],
   "source": [
    "folder_base = \"/home/yannik/benchmark-models/hackathon_contributions_new_data_format/\"\n",
    "model_name = \"Zheng_PNAS2012\"\n",
    "\n",
    "manager = petab.Manager.from_folder(folder_base + model_name)\n",
    "\n",
    "# print(petab.lint.check_measurement_df(manager.measurement_df))\n",
    "manager.map_par_sim_to_par_opt()\n"
   ]
  },
  {
   "cell_type": "markdown",
   "metadata": {},
   "source": [
    "## Import model to AMICI"
   ]
  },
  {
   "cell_type": "code",
   "execution_count": 3,
   "metadata": {},
   "outputs": [
    {
     "name": "stdout",
     "output_type": "stream",
     "text": [
      "/home/yannik/pypesto/doc/example/tmp/Zheng_PNAS2012\n",
      "Model parameters: ['inflowp', 'k00_01', 'k00_10', 'k01_00', 'k01_02', 'k01_11', 'k02_01', 'k02_03', 'k02_12', 'k03_02', 'k03_13', 'k10_00', 'k10_11', 'k10_20', 'k11_01', 'k11_10', 'k11_12', 'k11_21', 'k12_02', 'k12_11', 'k12_13', 'k12_22', 'k13_03', 'k13_12', 'k13_23', 'k20_10', 'k20_21', 'k20_30', 'k21_11', 'k21_20', 'k21_22', 'k21_31', 'k22_12', 'k22_21', 'k22_23', 'k22_32', 'k23_13', 'k23_22', 'k30_20', 'k30_31', 'k31_21', 'k31_30', 'k31_32', 'k32_22', 'k32_31', 'noiseParameter1_K27me0K36me0', 'noiseParameter1_K27me0K36me1', 'noiseParameter1_K27me0K36me2', 'noiseParameter1_K27me0K36me3', 'noiseParameter1_K27me1K36me0', 'noiseParameter1_K27me1K36me1', 'noiseParameter1_K27me1K36me2', 'noiseParameter1_K27me1K36me3', 'noiseParameter1_K27me2K36me0', 'noiseParameter1_K27me2K36me1', 'noiseParameter1_K27me2K36me2', 'noiseParameter1_K27me2K36me3', 'noiseParameter1_K27me3K36me0', 'noiseParameter1_K27me3K36me1', 'noiseParameter1_K27me3K36me2'] \n",
      "\n",
      "Model const parameters: ['dilution'] \n",
      "\n",
      "Model outputs:    ['observable_K27me0K36me0', 'observable_K27me0K36me1', 'observable_K27me1K36me0', 'observable_K27me0K36me2', 'observable_K27me1K36me1', 'observable_K27me2K36me0', 'observable_K27me0K36me3', 'observable_K27me1K36me2', 'observable_K27me2K36me1', 'observable_K27me3K36me0', 'observable_K27me1K36me3', 'observable_K27me2K36me2', 'observable_K27me3K36me1', 'observable_K27me2K36me3', 'observable_K27me3K36me2'] \n",
      "\n",
      "Model states:     ['K27me0K36me0', 'K27me0K36me1', 'K27me1K36me0', 'K27me0K36me2', 'K27me1K36me1', 'K27me2K36me0', 'K27me0K36me3', 'K27me1K36me2', 'K27me2K36me1', 'K27me3K36me0', 'K27me1K36me3', 'K27me2K36me2', 'K27me3K36me1', 'K27me2K36me3', 'K27me3K36me2'] \n",
      "\n"
     ]
    }
   ],
   "source": [
    "importer = pypesto.objective.Importer(manager)\n",
    "print(importer.output_folder)\n",
    "model = importer.model\n",
    "\n",
    "print(\"Model parameters:\", list(model.getParameterIds()), '\\n')\n",
    "print(\"Model const parameters:\", list(model.getFixedParameterIds()), '\\n')\n",
    "print(\"Model outputs:   \", list(model.getObservableIds()), '\\n')\n",
    "print(\"Model states:    \", list(model.getStateIds()), '\\n')"
   ]
  },
  {
   "cell_type": "markdown",
   "metadata": {},
   "source": [
    "## Create objective function"
   ]
  },
  {
   "cell_type": "code",
   "execution_count": 4,
   "metadata": {},
   "outputs": [
    {
     "name": "stdout",
     "output_type": "stream",
     "text": [
      "   time datatype  t_presim  dilution  dilution_preeq  dilution_presim  \\\n",
      "0   0.0     data       0.0       0.0             1.0              NaN   \n",
      "1   5.0     data       0.0       0.0             1.0              NaN   \n",
      "2  10.0     data       0.0       0.0             1.0              NaN   \n",
      "3  25.0     data       0.0       0.0             1.0              NaN   \n",
      "\n",
      "   observable_K27me0K36me0  observable_K27me0K36me1  observable_K27me1K36me0  \\\n",
      "0                  0.00431                  0.00789                  0.00216   \n",
      "1                  0.00093                  0.00499                  0.00159   \n",
      "2                  0.00051                  0.00308                  0.00123   \n",
      "3                  0.00054                  0.00131                  0.00091   \n",
      "\n",
      "   observable_K27me0K36me2             ...               \\\n",
      "0                  0.16777             ...                \n",
      "1                  0.14469             ...                \n",
      "2                  0.12140             ...                \n",
      "3                  0.05789             ...                \n",
      "\n",
      "   observable_K27me2K36me0_std  observable_K27me0K36me3_std  \\\n",
      "0                          NaN                          NaN   \n",
      "1                          NaN                          NaN   \n",
      "2                          NaN                          NaN   \n",
      "3                          NaN                          NaN   \n",
      "\n",
      "   observable_K27me1K36me2_std  observable_K27me2K36me1_std  \\\n",
      "0                          NaN                          NaN   \n",
      "1                          NaN                          NaN   \n",
      "2                          NaN                          NaN   \n",
      "3                          NaN                          NaN   \n",
      "\n",
      "   observable_K27me3K36me0_std  observable_K27me1K36me3_std  \\\n",
      "0                          NaN                          NaN   \n",
      "1                          NaN                          NaN   \n",
      "2                          NaN                          NaN   \n",
      "3                          NaN                          NaN   \n",
      "\n",
      "   observable_K27me2K36me2_std  observable_K27me3K36me1_std  \\\n",
      "0                          NaN                          NaN   \n",
      "1                          NaN                          NaN   \n",
      "2                          NaN                          NaN   \n",
      "3                          NaN                          NaN   \n",
      "\n",
      "   observable_K27me2K36me3_std  observable_K27me3K36me2_std  \n",
      "0                          NaN                          NaN  \n",
      "1                          NaN                          NaN  \n",
      "2                          NaN                          NaN  \n",
      "3                          NaN                          NaN  \n",
      "\n",
      "[4 rows x 36 columns]\n",
      "(1.0,)\n",
      "46 ['inflowp', 'k00_01', 'k00_10', 'k01_00', 'k01_02', 'k01_11', 'k02_01', 'k02_03', 'k02_12', 'k03_02', 'k03_13', 'k10_00', 'k10_11', 'k10_20', 'k11_01', 'k11_10', 'k11_12', 'k11_21', 'k12_02', 'k12_11', 'k12_13', 'k12_22', 'k13_03', 'k13_12', 'k13_23', 'k20_10', 'k20_21', 'k20_30', 'k21_11', 'k21_20', 'k21_22', 'k21_31', 'k22_12', 'k22_21', 'k22_23', 'k22_32', 'k23_13', 'k23_22', 'k30_20', 'k30_31', 'k31_21', 'k31_30', 'k31_32', 'k32_22', 'k32_31', 'sigma'] ['inflowp', 'k00_01', 'k00_10', 'k01_00', 'k01_02', 'k01_11', 'k02_01', 'k02_03', 'k02_12', 'k03_02', 'k03_13', 'k10_00', 'k10_11', 'k10_20', 'k11_01', 'k11_10', 'k11_12', 'k11_21', 'k12_02', 'k12_11', 'k12_13', 'k12_22', 'k13_03', 'k13_12', 'k13_23', 'k20_10', 'k20_21', 'k20_30', 'k21_11', 'k21_20', 'k21_22', 'k21_31', 'k22_12', 'k22_21', 'k22_23', 'k22_32', 'k23_13', 'k23_22', 'k30_20', 'k30_31', 'k31_21', 'k31_30', 'k31_32', 'k32_22', 'k32_31', 'sigma'] [['inflowp', 'k00_01', 'k00_10', 'k01_00', 'k01_02', 'k01_11', 'k02_01', 'k02_03', 'k02_12', 'k03_02', 'k03_13', 'k10_00', 'k10_11', 'k10_20', 'k11_01', 'k11_10', 'k11_12', 'k11_21', 'k12_02', 'k12_11', 'k12_13', 'k12_22', 'k13_03', 'k13_12', 'k13_23', 'k20_10', 'k20_21', 'k20_30', 'k21_11', 'k21_20', 'k21_22', 'k21_31', 'k22_12', 'k22_21', 'k22_23', 'k22_32', 'k23_13', 'k23_22', 'k30_20', 'k30_31', 'k31_21', 'k31_30', 'k31_32', 'k32_22', 'k32_31', 'sigma', 'sigma', 'sigma', 'sigma', 'sigma', 'sigma', 'sigma', 'sigma', 'sigma', 'sigma', 'sigma', 'sigma', 'sigma', 'sigma', 'sigma']]\n",
      "(1.0,) (0.0,)\n",
      "Nominal parameter values:\n",
      " parameterId\n",
      "inflowp   -1.515968\n",
      "k00_01     2.998819\n",
      "k00_10    -0.630742\n",
      "k01_00     2.681098\n",
      "k01_02     0.281802\n",
      "k01_11     0.423491\n",
      "k02_01    -1.155128\n",
      "k02_03    -5.000000\n",
      "k02_12    -4.999999\n",
      "k03_02    -5.000000\n",
      "k03_13     2.994811\n",
      "k10_00    -5.000000\n",
      "k10_11    -5.000000\n",
      "k10_20    -0.569938\n",
      "k11_01    -5.000000\n",
      "k11_10    -4.999871\n",
      "k11_12     1.073784\n",
      "k11_21    -5.000000\n",
      "k12_02    -5.000000\n",
      "k12_11    -0.970619\n",
      "k12_13    -1.448185\n",
      "k12_22    -1.974015\n",
      "k13_03     2.653633\n",
      "k13_12    -0.709396\n",
      "k13_23    -5.000000\n",
      "k20_10    -5.000000\n",
      "k20_21    -5.000000\n",
      "k20_30    -0.821771\n",
      "k21_11    -4.999846\n",
      "k21_20    -1.451024\n",
      "k21_22     2.999687\n",
      "k21_31    -5.000000\n",
      "k22_12    -1.272624\n",
      "k22_21     2.629556\n",
      "k22_23    -0.818896\n",
      "k22_32    -5.000000\n",
      "k23_13    -0.101713\n",
      "k23_22    -4.999997\n",
      "k30_20    -4.999999\n",
      "k30_31    -0.550827\n",
      "k31_21    -4.999620\n",
      "k31_30    -4.999990\n",
      "k31_32    -0.451449\n",
      "k32_22    -0.198609\n",
      "k32_31    -5.000000\n",
      "sigma     -2.630883\n",
      "Name: nominalValue, dtype: float64\n",
      "h1\n",
      "preeq_edata [{'edata': <amici.amici.ExpData; proxy of <Swig Object of type 'std::vector< amici::ExpData * >::value_type' at 0x7f73ac5e8270> >, 'preequilibrate': True}]\n",
      "h3 0 {'edata': <amici.amici.ExpData; proxy of <Swig Object of type 'std::vector< amici::ExpData * >::value_type' at 0x7f73ac5e8270> >, 'preequilibrate': True}\n",
      "pq_df:  Empty DataFrame\n",
      "Columns: [time, datatype, t_presim, dilution, dilution_preeq, dilution_presim, observable_K27me0K36me0, observable_K27me0K36me1, observable_K27me1K36me0, observable_K27me0K36me2, observable_K27me1K36me1, observable_K27me2K36me0, observable_K27me0K36me3, observable_K27me1K36me2, observable_K27me2K36me1, observable_K27me3K36me0, observable_K27me1K36me3, observable_K27me2K36me2, observable_K27me3K36me1, observable_K27me2K36me3, observable_K27me3K36me2, observable_K27me0K36me0_std, observable_K27me0K36me1_std, observable_K27me1K36me0_std, observable_K27me0K36me2_std, observable_K27me1K36me1_std, observable_K27me2K36me0_std, observable_K27me0K36me3_std, observable_K27me1K36me2_std, observable_K27me2K36me1_std, observable_K27me3K36me0_std, observable_K27me1K36me3_std, observable_K27me2K36me2_std, observable_K27me3K36me1_std, observable_K27me2K36me3_std, observable_K27me3K36me2_std]\n",
      "Index: []\n",
      "\n",
      "[0 rows x 36 columns]\n",
      "pq_fpp:  (1.0,)\n",
      "pq_fp:  (0.0,)\n",
      "(-1.5159682952674898, 2.9988193951672297, -0.630741725766828, 2.68109795960193, 0.28180198273587803, 0.42349081778982295, -1.1551277123136001, -4.9999998124438605, -4.99999947455282, -4.9999999999999805, 2.99481075522779, -4.99999999992626, -4.9999999896302, -0.569938364856428, -4.999999999992509, -4.99987145176529, 1.07378392980943, -4.99999998476407, -4.999999999999151, -0.9706187453753949, -1.4481854451767502, -1.9740149272557699, 2.65363298331167, -0.7093963282018, -4.99999999809633, -4.9999999999999805, -4.99999981237195, -0.821771073094981, -4.99984610213653, -1.4510243457070202, 2.99968703404029, -4.999999998862441, -1.2726243778748798, 2.6295555324501003, -0.81889591101979, -4.9999999999999805, -0.10171307017624699, -4.9999967086855595, -4.9999994008315305, -0.5508265129504879, -4.99962003467971, -4.999989572738009, -0.45144917629559794, -0.198608740210104, -4.9999999999999805, -2.6308831038901697, -2.6308831038901697, -2.6308831038901697, -2.6308831038901697, -2.6308831038901697, -2.6308831038901697, -2.6308831038901697, -2.6308831038901697, -2.6308831038901697, -2.6308831038901697, -2.6308831038901697, -2.6308831038901697, -2.6308831038901697, -2.6308831038901697, -2.6308831038901697)\n",
      "-4.0\n"
     ]
    },
    {
     "data": {
      "text/plain": [
       "inf"
      ]
     },
     "execution_count": 4,
     "metadata": {},
     "output_type": "execute_result"
    }
   ],
   "source": [
    "obj, edatas = importer.create_objective()\n",
    "print(amici.getDataObservablesAsDataFrame(obj.amici_model, edatas))\n",
    "\n",
    "print(edatas[0].fixedParametersPreequilibration)\n",
    "print(obj.dim, obj.x_names, obj.x_ids, obj.opt_to_sim_par_mapping)\n",
    "print(edatas[0].fixedParametersPreequilibration, edatas[0].fixedParameters)\n",
    "\n",
    "x_nom = manager.parameter_df['nominalValue']\n",
    "print(\"Nominal parameter values:\\n\", x_nom)\n",
    "obj(x_nom)"
   ]
  },
  {
   "cell_type": "markdown",
   "metadata": {},
   "source": [
    "## Run optimization"
   ]
  },
  {
   "cell_type": "code",
   "execution_count": 5,
   "metadata": {},
   "outputs": [
    {
     "ename": "AttributeError",
     "evalue": "'Importer' object has no attribute 'par_lb'",
     "output_type": "error",
     "traceback": [
      "\u001b[0;31m---------------------------------------------------------------------------\u001b[0m",
      "\u001b[0;31mAttributeError\u001b[0m                            Traceback (most recent call last)",
      "\u001b[0;32m<ipython-input-5-1fe90abf064b>\u001b[0m in \u001b[0;36m<module>\u001b[0;34m\u001b[0m\n\u001b[1;32m      1\u001b[0m \u001b[0moptimizer\u001b[0m \u001b[0;34m=\u001b[0m \u001b[0mpypesto\u001b[0m\u001b[0;34m.\u001b[0m\u001b[0mScipyOptimizer\u001b[0m\u001b[0;34m(\u001b[0m\u001b[0;34m)\u001b[0m\u001b[0;34m\u001b[0m\u001b[0;34m\u001b[0m\u001b[0m\n\u001b[1;32m      2\u001b[0m \u001b[0;34m\u001b[0m\u001b[0m\n\u001b[0;32m----> 3\u001b[0;31m \u001b[0mproblem\u001b[0m \u001b[0;34m=\u001b[0m \u001b[0mimporter\u001b[0m\u001b[0;34m.\u001b[0m\u001b[0mcreate_problem\u001b[0m\u001b[0;34m(\u001b[0m\u001b[0mobj\u001b[0m\u001b[0;34m)\u001b[0m\u001b[0;34m\u001b[0m\u001b[0;34m\u001b[0m\u001b[0m\n\u001b[0m\u001b[1;32m      4\u001b[0m \u001b[0;34m\u001b[0m\u001b[0m\n\u001b[1;32m      5\u001b[0m \u001b[0;31m# do the optimization\u001b[0m\u001b[0;34m\u001b[0m\u001b[0;34m\u001b[0m\u001b[0;34m\u001b[0m\u001b[0m\n",
      "\u001b[0;32m~/yenv/lib/python3.6/site-packages/pypesto/objective/petab_import.py\u001b[0m in \u001b[0;36mcreate_problem\u001b[0;34m(self, objective)\u001b[0m\n\u001b[1;32m    194\u001b[0m     \u001b[0;32mdef\u001b[0m \u001b[0mcreate_problem\u001b[0m\u001b[0;34m(\u001b[0m\u001b[0mself\u001b[0m\u001b[0;34m,\u001b[0m \u001b[0mobjective\u001b[0m\u001b[0;34m)\u001b[0m\u001b[0;34m:\u001b[0m\u001b[0;34m\u001b[0m\u001b[0;34m\u001b[0m\u001b[0m\n\u001b[1;32m    195\u001b[0m         problem = Problem(objective=objective,\n\u001b[0;32m--> 196\u001b[0;31m                           \u001b[0mlb\u001b[0m\u001b[0;34m=\u001b[0m\u001b[0mself\u001b[0m\u001b[0;34m.\u001b[0m\u001b[0mpar_lb\u001b[0m\u001b[0;34m,\u001b[0m \u001b[0mub\u001b[0m\u001b[0;34m=\u001b[0m\u001b[0mself\u001b[0m\u001b[0;34m.\u001b[0m\u001b[0mpar_ub\u001b[0m\u001b[0;34m,\u001b[0m\u001b[0;34m\u001b[0m\u001b[0;34m\u001b[0m\u001b[0m\n\u001b[0m\u001b[1;32m    197\u001b[0m                           \u001b[0mx_fixed_indices\u001b[0m\u001b[0;34m=\u001b[0m\u001b[0mself\u001b[0m\u001b[0;34m.\u001b[0m\u001b[0mpar_fixed_indices\u001b[0m\u001b[0;34m,\u001b[0m\u001b[0;34m\u001b[0m\u001b[0;34m\u001b[0m\u001b[0m\n\u001b[1;32m    198\u001b[0m                           \u001b[0mx_fixed_vals\u001b[0m\u001b[0;34m=\u001b[0m\u001b[0mself\u001b[0m\u001b[0;34m.\u001b[0m\u001b[0mpar_fixed_vals\u001b[0m\u001b[0;34m,\u001b[0m\u001b[0;34m\u001b[0m\u001b[0;34m\u001b[0m\u001b[0m\n",
      "\u001b[0;31mAttributeError\u001b[0m: 'Importer' object has no attribute 'par_lb'"
     ]
    }
   ],
   "source": [
    "optimizer = pypesto.ScipyOptimizer()\n",
    "\n",
    "problem = importer.create_problem(obj)\n",
    "\n",
    "# do the optimization\n",
    "result = pypesto.minimize(problem=problem, optimizer=optimizer,\n",
    "                          n_starts=10)"
   ]
  },
  {
   "cell_type": "markdown",
   "metadata": {},
   "source": [
    "## Visualize"
   ]
  },
  {
   "cell_type": "code",
   "execution_count": null,
   "metadata": {},
   "outputs": [],
   "source": [
    "import pypesto.visualize\n",
    "\n",
    "pypesto.visualize.waterfall(result)\n",
    "pypesto.visualize.parameters(result)"
   ]
  },
  {
   "cell_type": "code",
   "execution_count": null,
   "metadata": {
    "scrolled": true
   },
   "outputs": [],
   "source": [
    "df = obj.simulations_to_measurement_df(result.optimize_result.get_for_key('x')[0])\n",
    "plt.xlabel(\"Experiment\")\n",
    "plt.ylabel(\"Simulation\")\n",
    "plt.scatter(importer.measurement_df['measurement'], df['measurement'])"
   ]
  },
  {
   "cell_type": "code",
   "execution_count": null,
   "metadata": {},
   "outputs": [],
   "source": [
    "edatas_sim = obj.simulate(x_bst)\n",
    "df_sim = importer.to_measurement_df(edatas_sim)\n",
    "plot_simulation(manager.measurement_df, [df_sim])"
   ]
  }
 ],
 "metadata": {
  "kernelspec": {
   "display_name": "Python 3",
   "language": "python",
   "name": "python3"
  },
  "language_info": {
   "codemirror_mode": {
    "name": "ipython",
    "version": 3
   },
   "file_extension": ".py",
   "mimetype": "text/x-python",
   "name": "python",
   "nbconvert_exporter": "python",
   "pygments_lexer": "ipython3",
   "version": "3.6.6"
  }
 },
 "nbformat": 4,
 "nbformat_minor": 2
}
