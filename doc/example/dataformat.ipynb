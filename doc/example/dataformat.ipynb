{
 "cells": [
  {
   "cell_type": "markdown",
   "metadata": {},
   "source": [
    "# Data format example"
   ]
  },
  {
   "cell_type": "code",
   "execution_count": 1,
   "metadata": {},
   "outputs": [],
   "source": [
    "import pypesto\n",
    "import amici\n",
    "import petab\n",
    "\n",
    "import numpy as np\n",
    "import matplotlib.pyplot as plt\n",
    "\n",
    "%matplotlib inline"
   ]
  },
  {
   "cell_type": "markdown",
   "metadata": {},
   "source": [
    "## Manage PETAB model"
   ]
  },
  {
   "cell_type": "code",
   "execution_count": 2,
   "metadata": {},
   "outputs": [
    {
     "data": {
      "text/plain": [
       "[['inflowp',\n",
       "  'k00_01',\n",
       "  'k00_10',\n",
       "  'k01_00',\n",
       "  'k01_02',\n",
       "  'k01_11',\n",
       "  'k02_01',\n",
       "  'k02_03',\n",
       "  'k02_12',\n",
       "  'k03_02',\n",
       "  'k03_13',\n",
       "  'k10_00',\n",
       "  'k10_11',\n",
       "  'k10_20',\n",
       "  'k11_01',\n",
       "  'k11_10',\n",
       "  'k11_12',\n",
       "  'k11_21',\n",
       "  'k12_02',\n",
       "  'k12_11',\n",
       "  'k12_13',\n",
       "  'k12_22',\n",
       "  'k13_03',\n",
       "  'k13_12',\n",
       "  'k13_23',\n",
       "  'k20_10',\n",
       "  'k20_21',\n",
       "  'k20_30',\n",
       "  'k21_11',\n",
       "  'k21_20',\n",
       "  'k21_22',\n",
       "  'k21_31',\n",
       "  'k22_12',\n",
       "  'k22_21',\n",
       "  'k22_23',\n",
       "  'k22_32',\n",
       "  'k23_13',\n",
       "  'k23_22',\n",
       "  'k30_20',\n",
       "  'k30_31',\n",
       "  'k31_21',\n",
       "  'k31_30',\n",
       "  'k31_32',\n",
       "  'k32_22',\n",
       "  'k32_31',\n",
       "  'sigma',\n",
       "  'sigma',\n",
       "  'sigma',\n",
       "  'sigma',\n",
       "  'sigma',\n",
       "  'sigma',\n",
       "  'sigma',\n",
       "  'sigma',\n",
       "  'sigma',\n",
       "  'sigma',\n",
       "  'sigma',\n",
       "  'sigma',\n",
       "  'sigma',\n",
       "  'sigma',\n",
       "  'sigma']]"
      ]
     },
     "execution_count": 2,
     "metadata": {},
     "output_type": "execute_result"
    }
   ],
   "source": [
    "folder_base = \"/home/yannik/benchmark-models/hackathon_contributions_new_data_format/\"\n",
    "model_name = \"Zheng_PNAS2012\"\n",
    "\n",
    "manager = petab.Manager.from_folder(folder_base + model_name)\n",
    "\n",
    "# print(petab.lint.check_measurement_df(manager.measurement_df))\n",
    "manager.map_par_sim_to_par_opt()\n"
   ]
  },
  {
   "cell_type": "markdown",
   "metadata": {},
   "source": [
    "## Import model to AMICI"
   ]
  },
  {
   "cell_type": "code",
   "execution_count": 3,
   "metadata": {},
   "outputs": [
    {
     "name": "stdout",
     "output_type": "stream",
     "text": [
      "/home/yannik/pypesto/doc/example/tmp/Zheng_PNAS2012\n",
      "Model parameters: ['inflowp', 'k00_01', 'k00_10', 'k01_00', 'k01_02', 'k01_11', 'k02_01', 'k02_03', 'k02_12', 'k03_02', 'k03_13', 'k10_00', 'k10_11', 'k10_20', 'k11_01', 'k11_10', 'k11_12', 'k11_21', 'k12_02', 'k12_11', 'k12_13', 'k12_22', 'k13_03', 'k13_12', 'k13_23', 'k20_10', 'k20_21', 'k20_30', 'k21_11', 'k21_20', 'k21_22', 'k21_31', 'k22_12', 'k22_21', 'k22_23', 'k22_32', 'k23_13', 'k23_22', 'k30_20', 'k30_31', 'k31_21', 'k31_30', 'k31_32', 'k32_22', 'k32_31', 'noiseParameter1_K27me0K36me0', 'noiseParameter1_K27me0K36me1', 'noiseParameter1_K27me0K36me2', 'noiseParameter1_K27me0K36me3', 'noiseParameter1_K27me1K36me0', 'noiseParameter1_K27me1K36me1', 'noiseParameter1_K27me1K36me2', 'noiseParameter1_K27me1K36me3', 'noiseParameter1_K27me2K36me0', 'noiseParameter1_K27me2K36me1', 'noiseParameter1_K27me2K36me2', 'noiseParameter1_K27me2K36me3', 'noiseParameter1_K27me3K36me0', 'noiseParameter1_K27me3K36me1', 'noiseParameter1_K27me3K36me2'] \n",
      "\n",
      "Model const parameters: ['dilution'] \n",
      "\n",
      "Model outputs:    ['observable_K27me0K36me0', 'observable_K27me0K36me1', 'observable_K27me1K36me0', 'observable_K27me0K36me2', 'observable_K27me1K36me1', 'observable_K27me2K36me0', 'observable_K27me0K36me3', 'observable_K27me1K36me2', 'observable_K27me2K36me1', 'observable_K27me3K36me0', 'observable_K27me1K36me3', 'observable_K27me2K36me2', 'observable_K27me3K36me1', 'observable_K27me2K36me3', 'observable_K27me3K36me2'] \n",
      "\n",
      "Model states:     ['K27me0K36me0', 'K27me0K36me1', 'K27me1K36me0', 'K27me0K36me2', 'K27me1K36me1', 'K27me2K36me0', 'K27me0K36me3', 'K27me1K36me2', 'K27me2K36me1', 'K27me3K36me0', 'K27me1K36me3', 'K27me2K36me2', 'K27me3K36me1', 'K27me2K36me3', 'K27me3K36me2'] \n",
      "\n"
     ]
    }
   ],
   "source": [
    "importer = pypesto.objective.Importer(manager)\n",
    "print(importer.output_folder)\n",
    "model = importer.model\n",
    "\n",
    "\n",
    "print(\"Model parameters:\", list(model.getParameterIds()), '\\n')\n",
    "print(\"Model const parameters:\", list(model.getFixedParameterIds()), '\\n')\n",
    "print(\"Model outputs:   \", list(model.getObservableIds()), '\\n')\n",
    "print(\"Model states:    \", list(model.getStateIds()), '\\n')"
   ]
  },
  {
   "cell_type": "markdown",
   "metadata": {},
   "source": [
    "## Create objective function"
   ]
  },
  {
   "cell_type": "code",
   "execution_count": 9,
   "metadata": {},
   "outputs": [
    {
     "name": "stdout",
     "output_type": "stream",
     "text": [
      "   time datatype  t_presim  dilution  dilution_preeq  dilution_presim  \\\n",
      "0   0.0     data       0.0       0.0             1.0              NaN   \n",
      "1   5.0     data       0.0       0.0             1.0              NaN   \n",
      "2  10.0     data       0.0       0.0             1.0              NaN   \n",
      "3  25.0     data       0.0       0.0             1.0              NaN   \n",
      "\n",
      "   observable_K27me0K36me0  observable_K27me0K36me1  observable_K27me1K36me0  \\\n",
      "0                  0.00431                  0.00789                  0.00216   \n",
      "1                  0.00093                  0.00499                  0.00159   \n",
      "2                  0.00051                  0.00308                  0.00123   \n",
      "3                  0.00054                  0.00131                  0.00091   \n",
      "\n",
      "   observable_K27me0K36me2             ...               \\\n",
      "0                  0.16777             ...                \n",
      "1                  0.14469             ...                \n",
      "2                  0.12140             ...                \n",
      "3                  0.05789             ...                \n",
      "\n",
      "   observable_K27me2K36me0_std  observable_K27me0K36me3_std  \\\n",
      "0                          NaN                          NaN   \n",
      "1                          NaN                          NaN   \n",
      "2                          NaN                          NaN   \n",
      "3                          NaN                          NaN   \n",
      "\n",
      "   observable_K27me1K36me2_std  observable_K27me2K36me1_std  \\\n",
      "0                          NaN                          NaN   \n",
      "1                          NaN                          NaN   \n",
      "2                          NaN                          NaN   \n",
      "3                          NaN                          NaN   \n",
      "\n",
      "   observable_K27me3K36me0_std  observable_K27me1K36me3_std  \\\n",
      "0                          NaN                          NaN   \n",
      "1                          NaN                          NaN   \n",
      "2                          NaN                          NaN   \n",
      "3                          NaN                          NaN   \n",
      "\n",
      "   observable_K27me2K36me2_std  observable_K27me3K36me1_std  \\\n",
      "0                          NaN                          NaN   \n",
      "1                          NaN                          NaN   \n",
      "2                          NaN                          NaN   \n",
      "3                          NaN                          NaN   \n",
      "\n",
      "   observable_K27me2K36me3_std  observable_K27me3K36me2_std  \n",
      "0                          NaN                          NaN  \n",
      "1                          NaN                          NaN  \n",
      "2                          NaN                          NaN  \n",
      "3                          NaN                          NaN  \n",
      "\n",
      "[4 rows x 36 columns]\n",
      "(1.0,)\n",
      "46 ['inflowp', 'k00_01', 'k00_10', 'k01_00', 'k01_02', 'k01_11', 'k02_01', 'k02_03', 'k02_12', 'k03_02', 'k03_13', 'k10_00', 'k10_11', 'k10_20', 'k11_01', 'k11_10', 'k11_12', 'k11_21', 'k12_02', 'k12_11', 'k12_13', 'k12_22', 'k13_03', 'k13_12', 'k13_23', 'k20_10', 'k20_21', 'k20_30', 'k21_11', 'k21_20', 'k21_22', 'k21_31', 'k22_12', 'k22_21', 'k22_23', 'k22_32', 'k23_13', 'k23_22', 'k30_20', 'k30_31', 'k31_21', 'k31_30', 'k31_32', 'k32_22', 'k32_31', 'sigma'] 46 [['inflowp', 'k00_01', 'k00_10', 'k01_00', 'k01_02', 'k01_11', 'k02_01', 'k02_03', 'k02_12', 'k03_02', 'k03_13', 'k10_00', 'k10_11', 'k10_20', 'k11_01', 'k11_10', 'k11_12', 'k11_21', 'k12_02', 'k12_11', 'k12_13', 'k12_22', 'k13_03', 'k13_12', 'k13_23', 'k20_10', 'k20_21', 'k20_30', 'k21_11', 'k21_20', 'k21_22', 'k21_31', 'k22_12', 'k22_21', 'k22_23', 'k22_32', 'k23_13', 'k23_22', 'k30_20', 'k30_31', 'k31_21', 'k31_30', 'k31_32', 'k32_22', 'k32_31', 'sigma', 'sigma', 'sigma', 'sigma', 'sigma', 'sigma', 'sigma', 'sigma', 'sigma', 'sigma', 'sigma', 'sigma', 'sigma', 'sigma', 'sigma']]\n",
      "(1.0,) (0.0,)\n",
      "Nominal parameter values:\n",
      " [-1.5159683   2.9988194  -0.63074173  2.68109796  0.28180198  0.42349082\n",
      " -1.15512771 -4.99999981 -4.99999947 -5.          2.99481076 -5.\n",
      " -4.99999999 -0.56993836 -5.         -4.99987145  1.07378393 -4.99999998\n",
      " -5.         -0.97061875 -1.44818545 -1.97401493  2.65363298 -0.70939633\n",
      " -5.         -5.         -4.99999981 -0.82177107 -4.9998461  -1.45102435\n",
      "  2.99968703 -5.         -1.27262438  2.62955553 -0.81889591 -5.\n",
      " -0.10171307 -4.99999671 -4.9999994  -0.55082651 -4.99962003 -4.99998957\n",
      " -0.45144918 -0.19860874 -5.         -2.6308831 ]\n",
      "h1\n",
      "preeq_edata [{'edata': <amici.amici_without_hdf5.ExpData; proxy of <Swig Object of type 'std::vector< amici::ExpData * >::value_type' at 0x7f3245b23ae0> >, 'preequilibrate': True}]\n",
      "h3 0 {'edata': <amici.amici_without_hdf5.ExpData; proxy of <Swig Object of type 'std::vector< amici::ExpData * >::value_type' at 0x7f3245b23ae0> >, 'preequilibrate': True}\n",
      "pq_df:  Empty DataFrame\n",
      "Columns: [time, datatype, t_presim, dilution, dilution_preeq, dilution_presim, observable_K27me0K36me0, observable_K27me0K36me1, observable_K27me1K36me0, observable_K27me0K36me2, observable_K27me1K36me1, observable_K27me2K36me0, observable_K27me0K36me3, observable_K27me1K36me2, observable_K27me2K36me1, observable_K27me3K36me0, observable_K27me1K36me3, observable_K27me2K36me2, observable_K27me3K36me1, observable_K27me2K36me3, observable_K27me3K36me2, observable_K27me0K36me0_std, observable_K27me0K36me1_std, observable_K27me1K36me0_std, observable_K27me0K36me2_std, observable_K27me1K36me1_std, observable_K27me2K36me0_std, observable_K27me0K36me3_std, observable_K27me1K36me2_std, observable_K27me2K36me1_std, observable_K27me3K36me0_std, observable_K27me1K36me3_std, observable_K27me2K36me2_std, observable_K27me3K36me1_std, observable_K27me2K36me3_std, observable_K27me3K36me2_std]\n",
      "Index: []\n",
      "\n",
      "[0 rows x 36 columns]\n",
      "pq_fpp:  (1.0,)\n",
      "pq_fp:  (0.0,)\n",
      "(-1.0159682952674898, 3.4988193951672297, -0.13074172576682797, 3.18109795960193, 0.781801982735878, 0.9234908177898229, -0.6551277123136001, -4.4999998124438605, -4.49999947455282, -4.4999999999999805, 3.49481075522779, -4.49999999992626, -4.4999999896302, -0.06993836485642801, -4.499999999992509, -4.49987145176529, 1.57378392980943, -4.49999998476407, -4.499999999999151, -0.47061874537539494, -0.9481854451767502, -1.4740149272557699, 3.15363298331167, -0.20939632820179999, -4.49999999809633, -4.4999999999999805, -4.49999981237195, -0.321771073094981, -4.49984610213653, -0.9510243457070202, 3.49968703404029, -4.499999998862441, -0.7726243778748798, 3.1295555324501003, -0.31889591101979, -4.4999999999999805, 0.398286929823753, -4.4999967086855595, -4.4999994008315305, -0.0508265129504879, -4.49962003467971, -4.499989572738009, 0.04855082370440206, 0.301391259789896, -4.4999999999999805, -2.1308831038901697, -2.1308831038901697, -2.1308831038901697, -2.1308831038901697, -2.1308831038901697, -2.1308831038901697, -2.1308831038901697, -2.1308831038901697, -2.1308831038901697, -2.1308831038901697, -2.1308831038901697, -2.1308831038901697, -2.1308831038901697, -2.1308831038901697, -2.1308831038901697)\n",
      "NewtonMaxSteps: 0\n",
      "0.0\n",
      "{'ptr': <amici.amici_without_hdf5.ReturnDataPtr; proxy of <Swig Object of type 'std::unique_ptr< amici::ReturnData > *' at 0x7f3245b23990> >, 't': None, 'x': None, 'x0': array([0.00435501, 0.00899016, 0.00340121, 0.17128427, 0.00734935,\n",
      "       0.00731758, 0.04777966, 0.59336445, 0.01160061, 0.00353785,\n",
      "       0.10481761, 0.02720451, 0.00259113, 0.00502512, 0.00138148]), 'sx': None, 'sx0': None, 'y': None, 'sigmay': None, 'sy': None, 'ssigmay': None, 'z': None, 'rz': None, 'sigmaz': None, 'sz': None, 'srz': None, 'ssigmaz': None, 'sllh': None, 's2llh': None, 'J': array([[-3.15443291e+03,  3.15369286e+03,  7.40045248e-01,\n",
      "         0.00000000e+00,  0.00000000e+00,  0.00000000e+00,\n",
      "         0.00000000e+00,  0.00000000e+00,  0.00000000e+00,\n",
      "         0.00000000e+00,  0.00000000e+00,  0.00000000e+00,\n",
      "         0.00000000e+00,  0.00000000e+00,  0.00000000e+00],\n",
      "       [ 1.51739259e+03, -1.53182801e+03,  0.00000000e+00,\n",
      "         6.05064932e+00,  8.38476351e+00,  0.00000000e+00,\n",
      "         0.00000000e+00,  0.00000000e+00,  0.00000000e+00,\n",
      "         0.00000000e+00,  0.00000000e+00,  0.00000000e+00,\n",
      "         0.00000000e+00,  0.00000000e+00,  0.00000000e+00],\n",
      "       [ 3.16227766e-05,  0.00000000e+00, -8.51322086e-01,\n",
      "         0.00000000e+00,  3.16227774e-05,  8.51258840e-01,\n",
      "         0.00000000e+00,  0.00000000e+00,  0.00000000e+00,\n",
      "         0.00000000e+00,  0.00000000e+00,  0.00000000e+00,\n",
      "         0.00000000e+00,  0.00000000e+00,  0.00000000e+00],\n",
      "       [ 0.00000000e+00,  2.21244400e-01,  0.00000000e+00,\n",
      "        -2.21307646e-01,  0.00000000e+00,  0.00000000e+00,\n",
      "         3.16227903e-05,  3.16228149e-05,  0.00000000e+00,\n",
      "         0.00000000e+00,  0.00000000e+00,  0.00000000e+00,\n",
      "         0.00000000e+00,  0.00000000e+00,  0.00000000e+00],\n",
      "       [ 0.00000000e+00,  3.16227766e-05,  3.16321381e-05,\n",
      "         0.00000000e+00, -3.74787441e+01,  0.00000000e+00,\n",
      "         0.00000000e+00,  3.74786492e+01,  3.16227777e-05,\n",
      "         0.00000000e+00,  0.00000000e+00,  0.00000000e+00,\n",
      "         0.00000000e+00,  0.00000000e+00,  0.00000000e+00],\n",
      "       [ 0.00000000e+00,  0.00000000e+00,  3.16227766e-05,\n",
      "         0.00000000e+00,  0.00000000e+00, -4.76745437e-01,\n",
      "         0.00000000e+00,  0.00000000e+00,  3.16227903e-05,\n",
      "         4.76682191e-01,  0.00000000e+00,  0.00000000e+00,\n",
      "         0.00000000e+00,  0.00000000e+00,  0.00000000e+00],\n",
      "       [ 0.00000000e+00,  0.00000000e+00,  0.00000000e+00,\n",
      "         3.16227766e-05,  0.00000000e+00,  0.00000000e+00,\n",
      "        -3.12471750e+03,  0.00000000e+00,  0.00000000e+00,\n",
      "         0.00000000e+00,  3.12471747e+03,  0.00000000e+00,\n",
      "         0.00000000e+00,  0.00000000e+00,  0.00000000e+00],\n",
      "       [ 0.00000000e+00,  0.00000000e+00,  0.00000000e+00,\n",
      "         3.16227766e-05,  3.38361744e-01,  0.00000000e+00,\n",
      "         0.00000000e+00, -4.84637598e-01,  0.00000000e+00,\n",
      "         0.00000000e+00,  1.12671624e-01,  3.35726075e-02,\n",
      "         0.00000000e+00,  0.00000000e+00,  0.00000000e+00],\n",
      "       [ 0.00000000e+00,  0.00000000e+00,  0.00000000e+00,\n",
      "         0.00000000e+00,  3.16339845e-05,  1.11937513e-01,\n",
      "         0.00000000e+00,  0.00000000e+00, -3.16011165e+03,\n",
      "         0.00000000e+00,  0.00000000e+00,  3.15999965e+03,\n",
      "         3.16227767e-05,  0.00000000e+00,  0.00000000e+00],\n",
      "       [ 0.00000000e+00,  0.00000000e+00,  0.00000000e+00,\n",
      "         0.00000000e+00,  0.00000000e+00,  3.16228202e-05,\n",
      "         0.00000000e+00,  0.00000000e+00,  0.00000000e+00,\n",
      "        -8.89588020e-01,  0.00000000e+00,  0.00000000e+00,\n",
      "         8.89556397e-01,  0.00000000e+00,  0.00000000e+00],\n",
      "       [ 0.00000000e+00,  0.00000000e+00,  0.00000000e+00,\n",
      "         0.00000000e+00,  0.00000000e+00,  0.00000000e+00,\n",
      "         1.42440334e+03,  6.17452668e-01,  0.00000000e+00,\n",
      "         0.00000000e+00, -1.42502082e+03,  0.00000000e+00,\n",
      "         0.00000000e+00,  3.16227767e-05,  0.00000000e+00],\n",
      "       [ 0.00000000e+00,  0.00000000e+00,  0.00000000e+00,\n",
      "         0.00000000e+00,  0.00000000e+00,  0.00000000e+00,\n",
      "         0.00000000e+00,  1.68801236e-01,  1.34758303e+03,\n",
      "         0.00000000e+00,  0.00000000e+00, -1.34823171e+03,\n",
      "         0.00000000e+00,  4.79848442e-01,  3.16227766e-05],\n",
      "       [ 0.00000000e+00,  0.00000000e+00,  0.00000000e+00,\n",
      "         0.00000000e+00,  0.00000000e+00,  0.00000000e+00,\n",
      "         0.00000000e+00,  0.00000000e+00,  3.16504556e-05,\n",
      "         3.16235359e-05,  0.00000000e+00,  0.00000000e+00,\n",
      "        -1.11834396e+00,  0.00000000e+00,  1.11828068e+00],\n",
      "       [ 0.00000000e+00,  0.00000000e+00,  0.00000000e+00,\n",
      "         0.00000000e+00,  0.00000000e+00,  0.00000000e+00,\n",
      "         0.00000000e+00,  0.00000000e+00,  0.00000000e+00,\n",
      "         0.00000000e+00,  2.50199784e+00,  3.16230163e-05,\n",
      "         0.00000000e+00, -2.50202946e+00,  0.00000000e+00],\n",
      "       [ 0.00000000e+00,  0.00000000e+00,  0.00000000e+00,\n",
      "         0.00000000e+00,  0.00000000e+00,  0.00000000e+00,\n",
      "         0.00000000e+00,  0.00000000e+00,  0.00000000e+00,\n",
      "         0.00000000e+00,  0.00000000e+00,  2.00166437e+00,\n",
      "         3.16227766e-05,  0.00000000e+00, -2.00169600e+00]]), 'xdot': array([-0.09597016,  0.00086656,  0.00032784,  0.01651008,  0.0007084 ,\n",
      "        0.00070534,  0.00460548,  0.05719436,  0.00111818,  0.00034101,\n",
      "        0.01010336,  0.00262224,  0.00024976,  0.00048437,  0.00013316]), 'status': 0.0, 'llh': 0.0, 'chi2': 0.0, 'res': None, 'sres': None, 'FIM': None, 'wrms_steadystate': 0.3803232710670759, 't_steadystate': 8.127659915738683, 'newton_numlinsteps': None, 'newton_numsteps': array([[5, 0]]), 'numsteps': None, 'numrhsevals': None, 'numerrtestfails': None, 'numnonlinsolvconvfails': None, 'order': None, 'numstepsB': None, 'numrhsevalsB': None, 'numerrtestfailsB': None, 'numnonlinsolvconvfailsB': None}\n",
      "h2\n"
     ]
    },
    {
     "data": {
      "text/plain": [
       "55.14462118870135"
      ]
     },
     "execution_count": 9,
     "metadata": {},
     "output_type": "execute_result"
    }
   ],
   "source": [
    "obj, edatas = importer.create_objective()\n",
    "print(amici.getDataObservablesAsDataFrame(obj.amici_model, edatas))\n",
    "\n",
    "print(edatas[0].fixedParametersPreequilibration)\n",
    "print(obj.dim, obj.x_names, len(obj.x_ids), obj.opt_to_sim_par_mapping)\n",
    "print(edatas[0].fixedParametersPreequilibration, edatas[0].fixedParameters)\n",
    "obj.amici_model.setParameterScale(amici.ParameterScaling_log10)\n",
    "x_nom = manager.parameter_df['nominalValue'].values\n",
    "print(\"Nominal parameter values:\\n\", x_nom)\n",
    "amici.\n",
    "obj(x_nom)"
   ]
  },
  {
   "cell_type": "markdown",
   "metadata": {},
   "source": [
    "## Run optimization"
   ]
  },
  {
   "cell_type": "code",
   "execution_count": 5,
   "metadata": {},
   "outputs": [
    {
     "ename": "AttributeError",
     "evalue": "'Importer' object has no attribute 'par_lb'",
     "output_type": "error",
     "traceback": [
      "\u001b[0;31m---------------------------------------------------------------------------\u001b[0m",
      "\u001b[0;31mAttributeError\u001b[0m                            Traceback (most recent call last)",
      "\u001b[0;32m<ipython-input-5-1fe90abf064b>\u001b[0m in \u001b[0;36m<module>\u001b[0;34m\u001b[0m\n\u001b[1;32m      1\u001b[0m \u001b[0moptimizer\u001b[0m \u001b[0;34m=\u001b[0m \u001b[0mpypesto\u001b[0m\u001b[0;34m.\u001b[0m\u001b[0mScipyOptimizer\u001b[0m\u001b[0;34m(\u001b[0m\u001b[0;34m)\u001b[0m\u001b[0;34m\u001b[0m\u001b[0;34m\u001b[0m\u001b[0m\n\u001b[1;32m      2\u001b[0m \u001b[0;34m\u001b[0m\u001b[0m\n\u001b[0;32m----> 3\u001b[0;31m \u001b[0mproblem\u001b[0m \u001b[0;34m=\u001b[0m \u001b[0mimporter\u001b[0m\u001b[0;34m.\u001b[0m\u001b[0mcreate_problem\u001b[0m\u001b[0;34m(\u001b[0m\u001b[0mobj\u001b[0m\u001b[0;34m)\u001b[0m\u001b[0;34m\u001b[0m\u001b[0;34m\u001b[0m\u001b[0m\n\u001b[0m\u001b[1;32m      4\u001b[0m \u001b[0;34m\u001b[0m\u001b[0m\n\u001b[1;32m      5\u001b[0m \u001b[0;31m# do the optimization\u001b[0m\u001b[0;34m\u001b[0m\u001b[0;34m\u001b[0m\u001b[0;34m\u001b[0m\u001b[0m\n",
      "\u001b[0;32m~/yenv/lib/python3.6/site-packages/pypesto/objective/petab_import.py\u001b[0m in \u001b[0;36mcreate_problem\u001b[0;34m(self, objective)\u001b[0m\n\u001b[1;32m    194\u001b[0m     \u001b[0;32mdef\u001b[0m \u001b[0mcreate_problem\u001b[0m\u001b[0;34m(\u001b[0m\u001b[0mself\u001b[0m\u001b[0;34m,\u001b[0m \u001b[0mobjective\u001b[0m\u001b[0;34m)\u001b[0m\u001b[0;34m:\u001b[0m\u001b[0;34m\u001b[0m\u001b[0;34m\u001b[0m\u001b[0m\n\u001b[1;32m    195\u001b[0m         problem = Problem(objective=objective,\n\u001b[0;32m--> 196\u001b[0;31m                           \u001b[0mlb\u001b[0m\u001b[0;34m=\u001b[0m\u001b[0mself\u001b[0m\u001b[0;34m.\u001b[0m\u001b[0mpar_lb\u001b[0m\u001b[0;34m,\u001b[0m \u001b[0mub\u001b[0m\u001b[0;34m=\u001b[0m\u001b[0mself\u001b[0m\u001b[0;34m.\u001b[0m\u001b[0mpar_ub\u001b[0m\u001b[0;34m,\u001b[0m\u001b[0;34m\u001b[0m\u001b[0;34m\u001b[0m\u001b[0m\n\u001b[0m\u001b[1;32m    197\u001b[0m                           \u001b[0mx_fixed_indices\u001b[0m\u001b[0;34m=\u001b[0m\u001b[0mself\u001b[0m\u001b[0;34m.\u001b[0m\u001b[0mpar_fixed_indices\u001b[0m\u001b[0;34m,\u001b[0m\u001b[0;34m\u001b[0m\u001b[0;34m\u001b[0m\u001b[0m\n\u001b[1;32m    198\u001b[0m                           \u001b[0mx_fixed_vals\u001b[0m\u001b[0;34m=\u001b[0m\u001b[0mself\u001b[0m\u001b[0;34m.\u001b[0m\u001b[0mpar_fixed_vals\u001b[0m\u001b[0;34m,\u001b[0m\u001b[0;34m\u001b[0m\u001b[0;34m\u001b[0m\u001b[0m\n",
      "\u001b[0;31mAttributeError\u001b[0m: 'Importer' object has no attribute 'par_lb'"
     ]
    }
   ],
   "source": [
    "optimizer = pypesto.ScipyOptimizer()\n",
    "\n",
    "problem = importer.create_problem(obj)\n",
    "\n",
    "# do the optimization\n",
    "result = pypesto.minimize(problem=problem, optimizer=optimizer,\n",
    "                          n_starts=10)"
   ]
  },
  {
   "cell_type": "markdown",
   "metadata": {},
   "source": [
    "## Visualize"
   ]
  },
  {
   "cell_type": "code",
   "execution_count": null,
   "metadata": {},
   "outputs": [],
   "source": [
    "import pypesto.visualize\n",
    "\n",
    "pypesto.visualize.waterfall(result)\n",
    "pypesto.visualize.parameters(result)"
   ]
  },
  {
   "cell_type": "code",
   "execution_count": null,
   "metadata": {
    "scrolled": true
   },
   "outputs": [],
   "source": [
    "df = obj.simulations_to_measurement_df(result.optimize_result.get_for_key('x')[0])\n",
    "plt.xlabel(\"Experiment\")\n",
    "plt.ylabel(\"Simulation\")\n",
    "plt.scatter(importer.measurement_df['measurement'], df['measurement'])"
   ]
  },
  {
   "cell_type": "code",
   "execution_count": null,
   "metadata": {},
   "outputs": [],
   "source": [
    "edatas_sim = obj.simulate(x_bst)\n",
    "df_sim = importer.to_measurement_df(edatas_sim)\n",
    "plot_simulation(manager.measurement_df, [df_sim])"
   ]
  }
 ],
 "metadata": {
  "kernelspec": {
   "display_name": "Python 3",
   "language": "python",
   "name": "python3"
  },
  "language_info": {
   "codemirror_mode": {
    "name": "ipython",
    "version": 3
   },
   "file_extension": ".py",
   "mimetype": "text/x-python",
   "name": "python",
   "nbconvert_exporter": "python",
   "pygments_lexer": "ipython3",
   "version": "3.6.7"
  }
 },
 "nbformat": 4,
 "nbformat_minor": 2
}
