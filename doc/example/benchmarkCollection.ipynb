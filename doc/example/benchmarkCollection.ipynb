{
 "cells": [
  {
   "cell_type": "markdown",
   "metadata": {},
   "source": [
    "# Benchmark collection models\n",
    "\n",
    "https://github.com/LoosC/Benchmark-Models/issues"
   ]
  },
  {
   "cell_type": "code",
   "execution_count": null,
   "metadata": {},
   "outputs": [],
   "source": [
    "import libsbml\n",
    "import os\n",
    "import sys\n",
    "sys.path.insert(0, os.path.split(os.path.split(os.getcwd())[0])[0])\n",
    "import pypesto\n",
    "import sys\n",
    "import amici\n",
    "import importlib\n",
    "import numpy as np\n",
    "import matplotlib.pyplot as plt\n",
    "import pandas as pd\n",
    "from pypesto.objective.amici_objective import (import_sbml_model, \n",
    "                                               amici_objective_from_measurement_file)\n",
    "\n",
    "models = ['Bachmann_MSB2011', 'beer_MolBioSystems2014', 'boehm_JProteomeRes2014',\n",
    " 'Borghans_BiophysChem1997', 'Brannmark_JBC2010', 'Bruno_JExpBio2016',\n",
    "'Chen_MSB2009', 'Crauste_CellSystems2017', 'Elowitz_Nature2000',\n",
    "'Fiedler_BMC2016', 'Fujita_SciSignal2010', 'Hass_PONE2017',\n",
    "'Isensee_JCB2018', 'Lucarelli_CellSystems_2018',\n",
    "'Merkle_PCB2016', 'Raia_CancerResearch2011',\n",
    "'Schwen_PONE2014','Sneyd_PNAS2002', 'Sobotta_Frontiers2017',\n",
    "'Swameye_PNAS2003', 'Weber_BMC2015','Zheng_PNAS2012']\n",
    "\n",
    "model_root = '/home/dweindl/src/Benchmark-Models/hackathon_contributions_new_data_format'\n",
    "\n",
    "# TODO Zheng_PNAS2012\n",
    "benchmark_model = 'Zheng_PNAS2012'\n",
    "condition_filename = os.path.join(model_root, benchmark_model, f'experimentalCondition_{benchmark_model}.tsv')\n",
    "measurement_filename = os.path.join(model_root, benchmark_model,f'measurementData_{benchmark_model}.tsv')\n",
    "parameter_filename = os.path.join(model_root, benchmark_model, f'parameters_{benchmark_model}.tsv')\n",
    "sbml_model_file = os.path.join(model_root, benchmark_model, f'model_{benchmark_model}_l2v4.xml')\n",
    "model_name = f'model_{benchmark_model}'\n",
    "model_output_dir = f'deleteme-{model_name}'"
   ]
  },
  {
   "cell_type": "markdown",
   "metadata": {},
   "source": [
    "## Import model"
   ]
  },
  {
   "cell_type": "code",
   "execution_count": null,
   "metadata": {
    "scrolled": true
   },
   "outputs": [],
   "source": [
    "rebuild = True\n",
    "if rebuild:\n",
    "    import_sbml_model(sbml_model_file=sbml_model_file,\n",
    "                      condition_file=condition_filename,\n",
    "                      measurement_file=measurement_filename,\n",
    "                      model_output_dir=model_output_dir,\n",
    "                      model_name=model_name)"
   ]
  },
  {
   "cell_type": "code",
   "execution_count": null,
   "metadata": {
    "scrolled": true
   },
   "outputs": [],
   "source": [
    "sys.path.insert(0, os.path.abspath(model_output_dir))\n",
    "model_module = importlib.import_module(model_name)\n",
    "\n",
    "model = model_module.getModel()\n",
    "model.requireSensitivitiesForAllParameters()\n",
    "\n",
    "solver = model.getSolver()\n",
    "solver.setSensitivityMethod(amici.SensitivityMethod_forward)\n",
    "solver.setSensitivityOrder(amici.SensitivityOrder_first)\n",
    "\n",
    "print(\"Model parameters:\", list(model.getParameterIds()))\n",
    "print()\n",
    "print(\"Model const parameters:\", list(model.getFixedParameterIds()))\n",
    "print()\n",
    "print(\"Model outputs:   \", list(model.getObservableIds()))\n",
    "print()\n",
    "print(\"Model states:    \", list(model.getStateIds()))"
   ]
  },
  {
   "cell_type": "markdown",
   "metadata": {},
   "source": [
    "## Create objective function"
   ]
  },
  {
   "cell_type": "code",
   "execution_count": null,
   "metadata": {},
   "outputs": [],
   "source": [
    "#from pypesto.logging import log_to_console\n",
    "#log_to_console()"
   ]
  },
  {
   "cell_type": "code",
   "execution_count": null,
   "metadata": {},
   "outputs": [],
   "source": [
    "# Create objective function instance from model and measurements\n",
    "model.setParameterScale(amici.ParameterScaling_log10)\n",
    "objective = amici_objective_from_measurement_file(amici_model=model, \n",
    "                                            condition_filename=condition_filename,\n",
    "                                            measurement_filename=measurement_filename, \n",
    "                                            amici_solver=solver)"
   ]
  },
  {
   "cell_type": "code",
   "execution_count": null,
   "metadata": {},
   "outputs": [],
   "source": [
    "# load nominal parameters from parameter description file\n",
    "parameter_df = pd.read_csv(parameter_filename, index_col=0, sep='\\t')\n",
    "nominal_x = parameter_df.loc[list(model.getParameterIds())].nominalValue.values\n",
    "#nominal_x = np.power(10, nominal_x)\n",
    "for i, p in enumerate(model.getParameterIds()):\n",
    "    if p.startswith('noise'):\n",
    "        nominal_x[i] = -2.63 #np.power(10, -2.63)\n",
    "print(nominal_x)"
   ]
  },
  {
   "cell_type": "code",
   "execution_count": null,
   "metadata": {},
   "outputs": [],
   "source": [
    "# evaluate with nominal parameters\n",
    "llh = objective(x=nominal_x)\n",
    "print(f'llh: {llh}, lh: {np.exp(llh)}')"
   ]
  },
  {
   "cell_type": "markdown",
   "metadata": {},
   "source": [
    "## Run optimization"
   ]
  },
  {
   "cell_type": "code",
   "execution_count": null,
   "metadata": {},
   "outputs": [],
   "source": [
    "# create optimizer object which contains all information for doing the optimization\n",
    "optimizer = pypesto.ScipyOptimizer()\n",
    "\n",
    "optimizer.solver = 'bfgs'\n",
    "\n",
    "parameter_ids = model.getParameterIds()\n",
    "\n",
    "problem = pypesto.Problem(objective=objective,\n",
    "                          lb=-5*np.ones(len(parameter_ids)), ub=5*np.ones(len(parameter_ids)),\n",
    "                          x_names=parameter_ids)\n",
    "\n",
    "\n",
    "# do the optimization\n",
    "result = pypesto.minimize(problem=problem,\n",
    "                          optimizer=optimizer,\n",
    "                          n_starts=10) # 200"
   ]
  },
  {
   "cell_type": "code",
   "execution_count": null,
   "metadata": {},
   "outputs": [],
   "source": [
    "fvals = result.optimize_result.get_for_key('fval')\n",
    "fvals"
   ]
  },
  {
   "cell_type": "code",
   "execution_count": null,
   "metadata": {},
   "outputs": [],
   "source": [
    "x = result.optimize_result.get_for_key('x')\n",
    "x"
   ]
  },
  {
   "cell_type": "markdown",
   "metadata": {},
   "source": [
    "## Visualization\n",
    "Create waterfall and parameter plot"
   ]
  },
  {
   "cell_type": "code",
   "execution_count": null,
   "metadata": {
    "scrolled": false
   },
   "outputs": [],
   "source": [
    "# waterfall, parameter space,\n",
    "import pypesto.visualize\n",
    "\n",
    "pypesto.visualize.waterfall(result)\n",
    "pypesto.visualize.parameters(result)"
   ]
  },
  {
   "cell_type": "markdown",
   "metadata": {},
   "source": [
    "### Save data simulated with optimal parameters "
   ]
  },
  {
   "cell_type": "code",
   "execution_count": null,
   "metadata": {},
   "outputs": [],
   "source": [
    "# TODO: visualize goodness of fit\n",
    "x = result.optimize_result.list[0]['x']\n",
    "dfs = objective.simulations_to_measurement_df(x)"
   ]
  },
  {
   "cell_type": "code",
   "execution_count": null,
   "metadata": {},
   "outputs": [],
   "source": [
    "dfs"
   ]
  },
  {
   "cell_type": "code",
   "execution_count": null,
   "metadata": {},
   "outputs": [],
   "source": []
  },
  {
   "cell_type": "code",
   "execution_count": null,
   "metadata": {},
   "outputs": [],
   "source": []
  }
 ],
 "metadata": {
  "kernelspec": {
   "display_name": "Python 3",
   "language": "python",
   "name": "python3"
  },
  "language_info": {
   "codemirror_mode": {
    "name": "ipython",
    "version": 3
   },
   "file_extension": ".py",
   "mimetype": "text/x-python",
   "name": "python",
   "nbconvert_exporter": "python",
   "pygments_lexer": "ipython3",
   "version": "3.6.7"
  }
 },
 "nbformat": 4,
 "nbformat_minor": 2
}
